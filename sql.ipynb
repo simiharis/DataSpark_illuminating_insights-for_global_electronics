{
 "cells": [
  {
   "cell_type": "code",
   "execution_count": 2,
   "metadata": {},
   "outputs": [],
   "source": [
    "import pandas as pd\n",
    "import numpy as np\n",
    "import mysql.connector"
   ]
  },
  {
   "cell_type": "code",
   "execution_count": null,
   "metadata": {},
   "outputs": [],
   "source": [
    "#Loading cleaned csv files\n",
    "Customer_data = pd.read_csv(\"C:\\\\Users\\\\haris\\\\Downloads\\\\Customers_cleaned.csv\")\n",
    "Exchange_rate = pd.read_csv(\"C:\\\\Users\\\\haris\\\\Downloads\\\\Exchange_Rates.csv\")\n",
    "Products_data = pd.read_csv(\"C:\\\\Users\\\\haris\\\\Downloads\\\\Products_cleaned.csv\")\n",
    "Sales_data = pd.read_csv(\"C:\\\\Users\\\\haris\\\\Downloads\\\\Sales_cleaned.csv\")\n",
    "Stores_data = pd.read_csv(\"C:\\\\Users\\\\haris\\\\Downloads\\\\Stores_cleaned.csv\")\n",
    "product_sales_data = pd.read_csv(\"C:\\\\Users\\\\haris\\\\Downloads\\\\Products_Sales.csv\")\n",
    "customer_sales_product_stores_data = pd.read_csv(\"C:\\\\Users\\\\haris\\\\Downloads\\\\Customer_Sales_Products_Stores.csv\")\n"
   ]
  },
  {
   "cell_type": "code",
   "execution_count": 6,
   "metadata": {},
   "outputs": [],
   "source": [
    "#creating sql connection\n",
    "conn = mysql.connector.connect(host='localhost', user='root', password='simi', port=3306)\n",
    "cursor = conn.cursor()\n",
    "cursor.execute(\"CREATE DATABASE IF NOT EXISTS dataspark\")\n",
    "cursor.execute(\"USE dataspark\")\n",
    "\n",
    "\n"
   ]
  },
  {
   "cell_type": "code",
   "execution_count": 37,
   "metadata": {},
   "outputs": [],
   "source": [
    "\n",
    "\n",
    "\n",
    "# Creating table for Customers data\n",
    "cursor.execute('''CREATE TABLE IF NOT EXISTS Customerdata(CustomerKey INT PRIMARY KEY,\n",
    "               Gender VARCHAR(10),\n",
    "               Name varchar(50),\n",
    "               City varchar(100),\n",
    "               State_Code varchar(50),\n",
    "               State varchar(100),\n",
    "               Zip_Code VARCHAR(10),\n",
    "               Country varchar(100),\n",
    "               Continent varchar(100),\n",
    "               Birthday DATE)''')\n"
   ]
  },
  {
   "cell_type": "code",
   "execution_count": 39,
   "metadata": {},
   "outputs": [
    {
     "name": "stdout",
     "output_type": "stream",
     "text": [
      "Customer data inserted successfully\n"
     ]
    }
   ],
   "source": [
    "\n",
    "\n",
    "# Convert dataframe to list of lists\n",
    "data = Customer_data.values.tolist()\n",
    "# Insert data into MySQL\n",
    "insert_query = '''INSERT INTO Customerdata(CustomerKey, Gender, Name, City, State_Code, State, Zip_Code, Country, Continent, Birthday) \n",
    "                  VALUES (%s, %s, %s, %s, %s, %s, %s, %s, %s, %s)'''\n",
    "cursor.executemany(insert_query, data)\n",
    "conn.commit()\n",
    "\n",
    "print(\"Customer data inserted successfully\")\n",
    "\n",
    "\n",
    "\n"
   ]
  },
  {
   "cell_type": "code",
   "execution_count": 63,
   "metadata": {},
   "outputs": [],
   "source": [
    "#creating table for Exchange rate\n",
    "cursor.execute('''CREATE TABLE IF NOT EXISTS ExchangeRate(Date DATE,\n",
    "                Currency VARCHAR(10),\n",
    "               Rate FLOAT)''')"
   ]
  },
  {
   "cell_type": "code",
   "execution_count": 67,
   "metadata": {},
   "outputs": [
    {
     "name": "stdout",
     "output_type": "stream",
     "text": [
      "Exchange rate data inserted successfully\n"
     ]
    }
   ],
   "source": [
    "\n",
    "\n",
    "# Inserting values into table\n",
    "data = Exchange_rate.values.tolist()\n",
    "insert_query = '''INSERT INTO ExchangeRate(Date, Currency, Rate) \n",
    "                  VALUES (%s, %s, %s)'''\n",
    "cursor.executemany(insert_query, data)\n",
    "conn.commit()\n",
    "\n",
    "print(\"Exchange rate data inserted successfully\")"
   ]
  },
  {
   "cell_type": "code",
   "execution_count": 8,
   "metadata": {},
   "outputs": [
    {
     "name": "stdout",
     "output_type": "stream",
     "text": [
      "Table created successfully\n"
     ]
    }
   ],
   "source": [
    "#creating table for Products data\n",
    "cursor.execute('''CREATE TABLE IF NOT EXISTS Productdetail(ProductKey INT PRIMARY KEY,\n",
    "               Product_Name VARCHAR(100),\n",
    "               Brand VARCHAR(100),\n",
    "               Color VARCHAR(100),\n",
    "               Unit_Cost_USD Float,\n",
    "               Unit_Price_USD Float,\n",
    "               Subcategorykey VARCHAR(100),\n",
    "               Subcategory VARCHAR(100),\n",
    "               CategoryKey VARCHAR(100),\n",
    "               Category VARCHAR(100))''')\n",
    "print(\"Table created successfully\")"
   ]
  },
  {
   "cell_type": "code",
   "execution_count": 137,
   "metadata": {},
   "outputs": [
    {
     "name": "stdout",
     "output_type": "stream",
     "text": [
      "Product data inserted successfully\n"
     ]
    }
   ],
   "source": [
    "# Clean the 'Unit Price USD' column by removing dollar signs and extra spaces\n",
    "Products_data['Unit Price USD'] = Products_data['Unit Price USD'].replace('[\\$,]', '', regex=True).astype(float)\n",
    "\n",
    "# Inserting values into table\n",
    "data = Products_data.values.tolist()\n",
    "insert_query = '''INSERT INTO Productdetail(ProductKey, Product_Name, Brand, Color, Unit_Cost_USD, Unit_Price_USD, Subcategorykey, Subcategory, CategoryKey, Category) \n",
    "                  VALUES (%s, %s, %s, %s, %s, %s, %s, %s, %s, %s)'''\n",
    "cursor.executemany(insert_query, data)\n",
    "conn.commit()\n",
    "print(\"Product data inserted successfully\")"
   ]
  },
  {
   "cell_type": "code",
   "execution_count": 9,
   "metadata": {},
   "outputs": [],
   "source": [
    "#Creating table for Sales data\n",
    "cursor.execute('''CREATE TABLE IF NOT EXISTS Sales_data1(Order_Number INT,\n",
    "               Line_Item INT,\n",
    "               Order_Date VARCHAR(100),\n",
    "               CustomerKey INT Primary Key,\n",
    "               StoreKey INT,\n",
    "               ProductKey INT primary key,\n",
    "               Quantity INT,\n",
    "               Currency_Code VARCHAR(10))''')\n",
    "\n"
   ]
  },
  {
   "cell_type": "code",
   "execution_count": 123,
   "metadata": {},
   "outputs": [
    {
     "name": "stdout",
     "output_type": "stream",
     "text": [
      "Sales data inserted successfully\n"
     ]
    }
   ],
   "source": [
    "# Inserting values into table\n",
    "data = Sales_data.values.tolist()\n",
    "insert_query = '''INSERT INTO Salesdata1(Order_Number, Line_Item, Order_Date, CustomerKey, StoreKey, ProductKey, Quantity, Currency_Code) \n",
    "                  VALUES (%s, %s, %s, %s, %s, %s, %s, %s)'''\n",
    "cursor.executemany(insert_query, data)\n",
    "conn.commit()\n",
    "\n",
    "print(\"Sales data inserted successfully\")"
   ]
  },
  {
   "cell_type": "code",
   "execution_count": 10,
   "metadata": {},
   "outputs": [
    {
     "name": "stdout",
     "output_type": "stream",
     "text": [
      "Table created successfully\n"
     ]
    }
   ],
   "source": [
    "#Creating table for Stores data\n",
    "cursor.execute('''CREATE TABLE IF NOT EXISTS Storedata1(StoreKey INT primary key,\n",
    "               Country VARCHAR(100),\n",
    "               State VARCHAR(100),\n",
    "               Square_Meters Float,\n",
    "               Open_Date VarChar(100))''')\n",
    "\n",
    "print(\"Table created successfully\")\n"
   ]
  },
  {
   "cell_type": "code",
   "execution_count": 140,
   "metadata": {},
   "outputs": [
    {
     "name": "stdout",
     "output_type": "stream",
     "text": [
      "Stores data inserted successfully\n"
     ]
    }
   ],
   "source": [
    "#Inserting values into table\n",
    "data = Stores_data.values.tolist()\n",
    "insert_query = '''INSERT INTO Storedata1(StoreKey, Country, State, Square_Meters, Open_Date) \n",
    "                  VALUES (%s, %s, %s, %s, %s)'''\n",
    "cursor.executemany(insert_query, data)\n",
    "conn.commit()\n",
    "\n",
    "print(\"Stores data inserted successfully\")\n"
   ]
  },
  {
   "cell_type": "code",
   "execution_count": 22,
   "metadata": {},
   "outputs": [
    {
     "name": "stdout",
     "output_type": "stream",
     "text": [
      "Table created successfully\n"
     ]
    }
   ],
   "source": [
    "#Creating table for product sales data\n",
    "cursor.execute('''CREATE TABLE IF NOT EXISTS ProductSalesdata1(\n",
    "               ProductKey INT,\n",
    "\n",
    "               ProductName VARCHAR(100),\n",
    "               Brand VARCHAR(100),\n",
    "               Color VARCHAR(100),\n",
    "               Unit_Cost_USD FLOAT,\n",
    "               Unit_Price_USD FLOAT,\n",
    "               Subcategorykey VARCHAR(100),\n",
    "               Subcategory VARCHAR(100),\n",
    "               CategoryKey VARCHAR(100),\n",
    "               Category VARCHAR(100),\n",
    "               Order_Number INT,\n",
    "               Line_Item INT,\n",
    "               Order_Date VARCHAR(100),\n",
    "               CustomerKey INT,\n",
    "               StoreKey INT,\n",
    "               Quantity INT,\n",
    "               Currency_Code VARCHAR(10),\n",
    "               PRIMARY KEY (Productkey, CustomerKey, StoreKey))''')\n",
    "               \n",
    "print(\"Table created successfully\")"
   ]
  },
  {
   "cell_type": "code",
   "execution_count": 25,
   "metadata": {},
   "outputs": [
    {
     "name": "stdout",
     "output_type": "stream",
     "text": [
      "Product sales data inserted successfully\n"
     ]
    }
   ],
   "source": [
    "# Inserting values into table\n",
    "data = product_sales_data.values.tolist()\n",
    "insert_query = '''INSERT IGNORE INTO ProductSalesdata1(ProductKey, ProductName, Brand, Color, Unit_Cost_USD, Unit_Price_USD, Subcategorykey, Subcategory, CategoryKey, Category, Order_Number, Line_Item, Order_Date, CustomerKey, StoreKey, Quantity, Currency_Code) \n",
    "                  VALUES (%s, %s, %s, %s, %s, %s, %s, %s, %s, %s, %s, %s, %s, %s, %s, %s, %s)'''\n",
    "cursor.executemany(insert_query, data)\n",
    "conn.commit()\n",
    "\n",
    "print(\"Product sales data inserted successfully\")\n"
   ]
  },
  {
   "cell_type": "code",
   "execution_count": 7,
   "metadata": {},
   "outputs": [],
   "source": [
    "conn.close()"
   ]
  }
 ],
 "metadata": {
  "kernelspec": {
   "display_name": "Python 3",
   "language": "python",
   "name": "python3"
  },
  "language_info": {
   "codemirror_mode": {
    "name": "ipython",
    "version": 3
   },
   "file_extension": ".py",
   "mimetype": "text/x-python",
   "name": "python",
   "nbconvert_exporter": "python",
   "pygments_lexer": "ipython3",
   "version": "3.11.9"
  }
 },
 "nbformat": 4,
 "nbformat_minor": 2
}
